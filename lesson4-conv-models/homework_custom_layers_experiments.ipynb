{
 "cells": [
  {
   "cell_type": "markdown",
   "id": "9b61ef66",
   "metadata": {},
   "source": [
    "## Задание 3: Кастомные слои и эксперименты (30 баллов)"
   ]
  },
  {
   "cell_type": "markdown",
   "id": "fa3c7751",
   "metadata": {},
   "source": [
    "### 3.1 Реализация кастомных слоев (15 баллов)\n",
    "```python\n",
    "# Реализуйте кастомные слои:\n",
    "# - Кастомный сверточный слой с дополнительной логикой\n",
    "# - Attention механизм для CNN\n",
    "# - Кастомная функция активации\n",
    "# - Кастомный pooling слой\n",
    "# \n",
    "# Для каждого слоя:\n",
    "# - Реализуйте forward и backward проходы\n",
    "# - Добавьте параметры если необходимо\n",
    "# - Протестируйте на простых примерах\n",
    "# - Сравните с стандартными аналогами\n",
    "```"
   ]
  },
  {
   "cell_type": "code",
   "execution_count": null,
   "id": "c8577c60",
   "metadata": {},
   "outputs": [],
   "source": []
  },
  {
   "cell_type": "markdown",
   "id": "e676e3df",
   "metadata": {},
   "source": [
    "### 3.2 Эксперименты с Residual блоками (15 баллов)\n",
    "```python\n",
    "# Исследуйте различные варианты Residual блоков:\n",
    "# - Базовый Residual блок\n",
    "# - Bottleneck Residual блок\n",
    "# - Wide Residual блок\n",
    "# \n",
    "# Для каждого варианта:\n",
    "# - Реализуйте блок с нуля\n",
    "# - Сравните производительность\n",
    "# - Проанализируйте количество параметров\n",
    "# - Исследуйте стабильность обучения\n",
    "```"
   ]
  },
  {
   "cell_type": "code",
   "execution_count": null,
   "id": "5043d732",
   "metadata": {},
   "outputs": [],
   "source": []
  }
 ],
 "metadata": {
  "kernelspec": {
   "display_name": "venv",
   "language": "python",
   "name": "python3"
  },
  "language_info": {
   "name": "python",
   "version": "3.12.4"
  }
 },
 "nbformat": 4,
 "nbformat_minor": 5
}
