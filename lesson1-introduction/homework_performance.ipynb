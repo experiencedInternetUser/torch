{
 "cells": [
  {
   "cell_type": "markdown",
   "id": "58666ac6",
   "metadata": {},
   "source": [
    "## Задание 3: Сравнение производительности CPU vs CUDA (20 баллов)"
   ]
  },
  {
   "cell_type": "markdown",
   "id": "e75dbf63",
   "metadata": {},
   "source": [
    "Вся 3 задача находится в Google colab:\n",
    "\n",
    "https://colab.research.google.com/drive/1Er_08zDro7lorM4jkQT27hlVU7-01jTA?usp=sharing    "
   ]
  }
 ],
 "metadata": {
  "kernelspec": {
   "display_name": "venv",
   "language": "python",
   "name": "python3"
  },
  "language_info": {
   "codemirror_mode": {
    "name": "ipython",
    "version": 3
   },
   "file_extension": ".py",
   "mimetype": "text/x-python",
   "name": "python",
   "nbconvert_exporter": "python",
   "pygments_lexer": "ipython3",
   "version": "3.12.4"
  }
 },
 "nbformat": 4,
 "nbformat_minor": 5
}
