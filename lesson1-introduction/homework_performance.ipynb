{
 "cells": [
  {
   "cell_type": "markdown",
   "id": "58666ac6",
   "metadata": {},
   "source": [
    "## Задание 3: Сравнение производительности CPU vs CUDA (20 баллов)"
   ]
  },
  {
   "cell_type": "markdown",
   "id": "273b5d9f",
   "metadata": {},
   "source": [
    "### 3.1 Подготовка данных (5 баллов)\n",
    "```python\n",
    "# Создайте большие матрицы размеров:\n",
    "# - 64 x 1024 x 1024\n",
    "# - 128 x 512 x 512\n",
    "# - 256 x 256 x 256\n",
    "# Заполните их случайными числами\n",
    "```"
   ]
  },
  {
   "cell_type": "code",
   "execution_count": null,
   "id": "1e9c5dc8",
   "metadata": {},
   "outputs": [],
   "source": []
  },
  {
   "cell_type": "markdown",
   "id": "04e1d8bf",
   "metadata": {},
   "source": [
    "### 3.2 Функция измерения времени (5 баллов)\n",
    "```python\n",
    "# Создайте функцию для измерения времени выполнения операций\n",
    "# Используйте torch.cuda.Event() для точного измерения на GPU\n",
    "# Используйте time.time() для измерения на CPU"
   ]
  },
  {
   "cell_type": "code",
   "execution_count": null,
   "id": "e75dbf63",
   "metadata": {},
   "outputs": [],
   "source": []
  },
  {
   "cell_type": "markdown",
   "id": "bae0b755",
   "metadata": {},
   "source": [
    "### 3.3 Сравнение операций (10 баллов)\n",
    "```python\n",
    "# Сравните время выполнения следующих операций на CPU и CUDA:\n",
    "# - Матричное умножение (torch.matmul)\n",
    "# - Поэлементное сложение\n",
    "# - Поэлементное умножение\n",
    "# - Транспонирование\n",
    "# - Вычисление суммы всех элементов\n",
    "\n",
    "# Для каждой операции:\n",
    "# 1. Измерьте время на CPU\n",
    "# 2. Измерьте время на GPU (если доступен)\n",
    "# 3. Вычислите ускорение (speedup)\n",
    "# 4. Выведите результаты в табличном виде\n",
    "```\n",
    "\n",
    "### Пример вывода:\n",
    "```\n",
    "Операция          | CPU (мс) | GPU (мс) | Ускорение\n",
    "Матричное умножение|   150.2  |    12.3  |   12.2x\n",
    "Сложение          |    45.1  |     3.2  |   14.1x\n",
    "...\n",
    "```"
   ]
  },
  {
   "cell_type": "code",
   "execution_count": null,
   "id": "5ff9eec3",
   "metadata": {},
   "outputs": [],
   "source": []
  },
  {
   "cell_type": "markdown",
   "id": "1d1a7afc",
   "metadata": {},
   "source": [
    "### 3.4 Анализ результатов (5 баллов)\n",
    "```python\n",
    "# Проанализируйте результаты:\n",
    "# - Какие операции получают наибольшее ускорение на GPU?\n",
    "# - Почему некоторые операции могут быть медленнее на GPU?\n",
    "# - Как размер матриц влияет на ускорение?\n",
    "# - Что происходит при передаче данных между CPU и GPU?\n",
    "```"
   ]
  },
  {
   "cell_type": "code",
   "execution_count": null,
   "id": "2573f2ce",
   "metadata": {},
   "outputs": [],
   "source": []
  }
 ],
 "metadata": {
  "kernelspec": {
   "display_name": "venv",
   "language": "python",
   "name": "python3"
  },
  "language_info": {
   "name": "python",
   "version": "3.12.4"
  }
 },
 "nbformat": 4,
 "nbformat_minor": 5
}
