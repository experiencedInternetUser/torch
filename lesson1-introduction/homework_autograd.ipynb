{
 "cells": [
  {
   "cell_type": "markdown",
   "id": "d4f378e1",
   "metadata": {},
   "source": [
    "## Задание 2: Автоматическое дифференцирование (25 баллов)"
   ]
  },
  {
   "cell_type": "code",
   "execution_count": 2,
   "id": "1872eb3c",
   "metadata": {},
   "outputs": [],
   "source": [
    "import torch\n",
    "import numpy as np  "
   ]
  },
  {
   "cell_type": "markdown",
   "id": "078866e4",
   "metadata": {},
   "source": [
    "### 2.1 Простые вычисления с градиентами (8 баллов)\n",
    "```python\n",
    "# Создайте тензоры x, y, z с requires_grad=True\n",
    "# Вычислите функцию: f(x,y,z) = x^2 + y^2 + z^2 + 2*x*y*z\n",
    "# Найдите градиенты по всем переменным\n",
    "# Проверьте результат аналитически\n",
    "```"
   ]
  },
  {
   "cell_type": "code",
   "execution_count": 3,
   "id": "e6b7866a",
   "metadata": {},
   "outputs": [
    {
     "name": "stdout",
     "output_type": "stream",
     "text": [
      "градиент x = tensor([14.])\n",
      "градиент y = tensor([10.])\n",
      "градиент z = tensor([10.])\n"
     ]
    }
   ],
   "source": [
    "x = torch.tensor([1.0], requires_grad=True)\n",
    "y = torch.tensor([2.0], requires_grad=True)\n",
    "z = torch.tensor([3.0], requires_grad=True)\n",
    "\n",
    "f = x**2 + y**2 + z**2 + 2 * x * y * z\n",
    "f.backward()\n",
    "\n",
    "print(f'градиент x = {x.grad}')\n",
    "print(f'градиент y = {y.grad}')\n",
    "print(f'градиент z = {z.grad}')\n",
    "\n",
    "\n",
    "# Проверка:\n",
    "# градиент x:   2x + 2yz = 2 + 12 = 14\n",
    "# градиент y:   2y + 2xz = 4 + 6 = 10\n",
    "# градиент z:   2z + 2xy = 6 + 4 = 10"
   ]
  },
  {
   "cell_type": "markdown",
   "id": "b80f083d",
   "metadata": {},
   "source": [
    "### 2.2 Градиент функции потерь (9 баллов)\n",
    "```python\n",
    "# Реализуйте функцию MSE (Mean Squared Error):\n",
    "# MSE = (1/n) * Σ(y_pred - y_true)^2\n",
    "# где y_pred = w * x + b (линейная функция)\n",
    "# Найдите градиенты по w и b\n",
    "```"
   ]
  },
  {
   "cell_type": "code",
   "execution_count": null,
   "id": "7b4d1c8f",
   "metadata": {},
   "outputs": [
    {
     "name": "stdout",
     "output_type": "stream",
     "text": [
      "Градиент w: 0.0\n",
      "Градиент b: 0.0\n",
      "mse: 0.0\n",
      "\n",
      "Градиент w: -4.0\n",
      "Градиент b: -2.0\n",
      "mse: 1.0\n"
     ]
    }
   ],
   "source": [
    "def MSE(y_pred : torch.Tensor, y_true : torch.Tensor) -> torch.Tensor:\n",
    "    w = torch.tensor(1.0, requires_grad=True)\n",
    "    b = torch.tensor(0.0, requires_grad=True)\n",
    "    y_pred = w * x + b\n",
    "\n",
    "    n = len(y_true)\n",
    "    mse = torch.sum((y_pred - y_true)**2) / n\n",
    "\n",
    "    mse.backward()    \n",
    "    print(f\"Градиент w: {w.grad}\")\n",
    "    print(f\"Градиент b: {b.grad}\")\n",
    "    \n",
    "    return mse\n",
    "    \n",
    "\n",
    "x = torch.arange(0, 5, 1)\n",
    "y_true = torch.arange(0, 5, 1)\n",
    "print(f'mse: {MSE(x, y_true)}')\n",
    "\n",
    "print()\n",
    "\n",
    "x = torch.arange(0, 5, 1)\n",
    "y_true = torch.arange(1, 6, 1)\n",
    "print(f'mse: {MSE(x, y_true)}')"
   ]
  },
  {
   "cell_type": "markdown",
   "id": "4a680169",
   "metadata": {},
   "source": [
    "### 2.3 Цепное правило (8 баллов)\n",
    "```python\n",
    "# Реализуйте составную функцию: f(x) = sin(x^2 + 1)\n",
    "# Найдите градиент df/dx\n",
    "# Проверьте результат с помощью torch.autograd.grad\n",
    "```"
   ]
  },
  {
   "cell_type": "code",
   "execution_count": null,
   "id": "711187eb",
   "metadata": {},
   "outputs": [
    {
     "name": "stdout",
     "output_type": "stream",
     "text": [
      "f([2.0]) = -0.9589242935180664\n",
      "Градиент через torch.autograd.grad: (tensor(1.1346),)\n"
     ]
    }
   ],
   "source": [
    "def foo(x : torch.Tensor) -> torch.Tensor:\n",
    "    return torch.sin(x**2 + 1)\n",
    "\n",
    "x = torch.tensor(2.0, requires_grad=True)\n",
    "f = foo(x)\n",
    "print(f'f([2.0]) = {f}')\n",
    "\n",
    "\n",
    "autograd = torch.autograd.grad(f, x, retain_graph=True)\n",
    "print(f\"Градиент через torch.autograd.grad: {autograd}\")\n",
    "# df/dx = 2x * cos(x² + 1) = 4 * 0.28366218546 = 1.13464874184"
   ]
  }
 ],
 "metadata": {
  "kernelspec": {
   "display_name": "venv",
   "language": "python",
   "name": "python3"
  },
  "language_info": {
   "codemirror_mode": {
    "name": "ipython",
    "version": 3
   },
   "file_extension": ".py",
   "mimetype": "text/x-python",
   "name": "python",
   "nbconvert_exporter": "python",
   "pygments_lexer": "ipython3",
   "version": "3.12.4"
  }
 },
 "nbformat": 4,
 "nbformat_minor": 5
}
