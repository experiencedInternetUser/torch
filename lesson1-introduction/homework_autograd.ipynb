{
 "cells": [
  {
   "cell_type": "markdown",
   "id": "d4f378e1",
   "metadata": {},
   "source": [
    "## Задание 2: Автоматическое дифференцирование (25 баллов)"
   ]
  },
  {
   "cell_type": "markdown",
   "id": "078866e4",
   "metadata": {},
   "source": [
    "### 2.1 Простые вычисления с градиентами (8 баллов)\n",
    "```python\n",
    "# Создайте тензоры x, y, z с requires_grad=True\n",
    "# Вычислите функцию: f(x,y,z) = x^2 + y^2 + z^2 + 2*x*y*z\n",
    "# Найдите градиенты по всем переменным\n",
    "# Проверьте результат аналитически\n",
    "```"
   ]
  },
  {
   "cell_type": "code",
   "execution_count": null,
   "id": "e6b7866a",
   "metadata": {},
   "outputs": [],
   "source": []
  },
  {
   "cell_type": "markdown",
   "id": "b80f083d",
   "metadata": {},
   "source": [
    "### 2.2 Градиент функции потерь (9 баллов)\n",
    "```python\n",
    "# Реализуйте функцию MSE (Mean Squared Error):\n",
    "# MSE = (1/n) * Σ(y_pred - y_true)^2\n",
    "# где y_pred = w * x + b (линейная функция)\n",
    "# Найдите градиенты по w и b\n",
    "```"
   ]
  },
  {
   "cell_type": "code",
   "execution_count": null,
   "id": "7b4d1c8f",
   "metadata": {},
   "outputs": [],
   "source": []
  },
  {
   "cell_type": "markdown",
   "id": "4a680169",
   "metadata": {},
   "source": [
    "### 2.3 Цепное правило (8 баллов)\n",
    "```python\n",
    "# Реализуйте составную функцию: f(x) = sin(x^2 + 1)\n",
    "# Найдите градиент df/dx\n",
    "# Проверьте результат с помощью torch.autograd.grad\n",
    "```"
   ]
  },
  {
   "cell_type": "code",
   "execution_count": null,
   "id": "711187eb",
   "metadata": {},
   "outputs": [],
   "source": []
  }
 ],
 "metadata": {
  "kernelspec": {
   "display_name": "venv",
   "language": "python",
   "name": "python3"
  },
  "language_info": {
   "name": "python",
   "version": "3.12.4"
  }
 },
 "nbformat": 4,
 "nbformat_minor": 5
}
