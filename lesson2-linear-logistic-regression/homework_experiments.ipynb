{
 "cells": [
  {
   "cell_type": "markdown",
   "id": "f3b33d32",
   "metadata": {},
   "source": [
    "## Задание 3: Эксперименты и анализ (20 баллов)"
   ]
  },
  {
   "cell_type": "markdown",
   "id": "9bd2613f",
   "metadata": {},
   "source": [
    "### 3.1 Исследование гиперпараметров (10 баллов)\n",
    "```python\n",
    "# Проведите эксперименты с различными:\n",
    "# - Скоростями обучения (learning rate)\n",
    "# - Размерами батчей\n",
    "# - Оптимизаторами (SGD, Adam, RMSprop)\n",
    "# Визуализируйте результаты в виде графиков или таблиц\n",
    "```"
   ]
  },
  {
   "cell_type": "code",
   "execution_count": null,
   "id": "bbe51aaa",
   "metadata": {},
   "outputs": [],
   "source": []
  },
  {
   "cell_type": "markdown",
   "id": "a3d5d348",
   "metadata": {},
   "source": [
    "### 3.2 Feature Engineering (10 баллов)\n",
    "```python\n",
    "# Создайте новые признаки для улучшения модели:\n",
    "# - Полиномиальные признаки\n",
    "# - Взаимодействия между признаками\n",
    "# - Статистические признаки (среднее, дисперсия)\n",
    "# Сравните качество с базовой моделью\n",
    "```"
   ]
  },
  {
   "cell_type": "code",
   "execution_count": null,
   "id": "660f1908",
   "metadata": {},
   "outputs": [],
   "source": []
  }
 ],
 "metadata": {
  "kernelspec": {
   "display_name": "venv",
   "language": "python",
   "name": "python3"
  },
  "language_info": {
   "name": "python",
   "version": "3.12.4"
  }
 },
 "nbformat": 4,
 "nbformat_minor": 5
}
